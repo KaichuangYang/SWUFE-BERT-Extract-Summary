{
 "cells": [
  {
   "cell_type": "code",
   "execution_count": 86,
   "metadata": {},
   "outputs": [],
   "source": [
    "import pandas as pd\n",
    "import os \n",
    "def read_summary(network,bert,loss,index):\n",
    "        file_name = f'{network}_{bert}_{loss}_example.csv'\n",
    "        file_path = \"/home/yuxin.fan/news_summary_example/\"\n",
    "        summary = pd.read_csv(os.path.join(file_path,file_name),encoding='utf_8_sig')\n",
    "        return summary[\"summary_modified\"][index],summary[\"content\"][index]\n",
    "\n",
    "for n in [\"lstm1\",\"transformer1\"]:\n",
    "    for b in [\"cn_bert\",\"wwm_bert\",\"swufe_bert\"]:\n",
    "        for l in [\"BCEloss\"]:\n",
    "            x = f\"{n[:-1]}({b}):{read_summary(n,b,l,40)[0]}\"\n",
    "            text_file = f\"p8_summary2_{n[0]}_{b[0]}.txt\"\n",
    "            text_path = \"/home/yuxin.fan/extract_summary_finetune/dash-summary-report/text/\"+text_file\n",
    "            with open(text_path,'w',encoding='utf-8') as f:\n",
    "                f.write(x)"
   ]
  },
  {
   "cell_type": "code",
   "execution_count": 79,
   "metadata": {},
   "outputs": [
    {
     "name": "stdout",
     "output_type": "stream",
     "text": [
      "lstm1cn_bert: 公司控股股东、实控人，原董事长刘群涉嫌生产、销售假药罪、职务侵占罪、挪用资金罪、虚假诉讼罪及公司原总经理李洪涉嫌生产、销售假药罪、职务侵占罪、挪用资金罪一案，由重庆市公安局侦查终结，移送重庆一分检审查起诉。行贿1474万元，刘群及天圣制药涉嫌单位行贿罪及对单位行贿罪\\u3000\\u3000起诉书认为 /n\n",
      "lstm1wwm_bert: 公司控股股东、实控人，原董事长刘群涉嫌生产、销售假药罪、职务侵占罪、挪用资金罪、虚假诉讼罪及公司原总经理李洪涉嫌生产、销售假药罪、职务侵占罪、挪用资金罪一案，由重庆市公安局侦查终结，移送重庆一分检审查起诉。行贿1474万元，刘群及天圣制药涉嫌单位行贿罪及对单位行贿罪\\u3000\\u3000起诉书认为 /n\n",
      "lstm1swufe_bert: 公司控股股东、实控人，原董事长刘群涉嫌生产、销售假药罪、职务侵占罪、挪用资金罪、虚假诉讼罪及公司原总经理李洪涉嫌生产、销售假药罪、职务侵占罪、挪用资金罪一案，由重庆市公安局侦查终结，移送重庆一分检审查起诉。行贿1474万元，刘群及天圣制药涉嫌单位行贿罪及对单位行贿罪\\u3000\\u3000起诉书认为 /n\n",
      "transformer1cn_bert: 公司控股股东、实控人，原董事长刘群涉嫌生产、销售假药罪、职务侵占罪、挪用资金罪、虚假诉讼罪及公司原总经理李洪涉嫌生产、销售假药罪、职务侵占罪、挪用资金罪一案，由重庆市公安局侦查终结，移送重庆一分检审查起诉。行贿1474万元， /n\n",
      "transformer1wwm_bert: 公司控股股东、实控人，原董事长刘群涉嫌生产、销售假药罪、职务侵占罪、挪用资金罪、虚假诉讼罪及公司原总经理李洪涉嫌生产、销售假药罪、职务侵占罪、挪用资金罪一案，由重庆市公安局侦查终结，移送重庆一分检审查起诉。行贿1474万元群及制药涉单贿罪及位0 /n\n",
      "transformer1swufe_bert: 公司控股股东、实控人，董事刘涉嫌生务侵金假讼罪公司原总经理李洪涉嫌生职务占挪用资金罪一，由重庆市公安局侦查终结，移送重庆一分检审查起诉。行4万，一检 /n\n",
      "公司控股股东、实控人，原董事长刘群涉嫌生产、销售假药罪、职务侵占罪、挪用资金罪、虚假诉讼罪及公司原总经理李洪涉嫌生产、销售假药罪、职务侵占罪、挪用资金罪一案，由重庆市公安局侦查终结，移送重庆一分检审查起诉。行贿1474万元，刘群及天圣制药涉嫌单位行贿罪及对单位行贿罪\\u3000\\u3000起诉书认为，2003 年至 2018 年初，时任天圣制药法定代表人及实际控制 人刘群为使其实际控制的天圣制药及其关联公司谋取不正当利益，给予多名国家工作人员财物共计折合1474.8015万元，其中刘群代表天圣制药给予国家工作人员财物共计970.074万元。重庆一分检认为，刘群及被告单位天圣制药的上述行为应当以涉嫌单位行贿罪和对单位行贿罪追究刑事责任。重庆一分检认为，刘群和李洪的上述行为应当以职务侵占罪和挪用资金罪追究其刑事责任。重庆一分检认为，刘群的上述行为应当以虚假诉讼罪追究其刑事责任。如上述罪名最终经法院判决成立，根据《中华人民共和国刑法》第三百零 七条之规定，犯虚假诉讼罪的，处三年以下有期徒刑、拘役或者管制，并处或 者单处罚金。\n"
     ]
    }
   ],
   "source": [
    "for n in [\"lstm1\",\"transformer1\"]:\n",
    "    for b in [\"cn_bert\",\"wwm_bert\",\"swufe_bert\"]:\n",
    "        for l in [\"BCEloss\"]:\n",
    "            print(f\"{n}{b}:\",read_summary(n,b,l,40)[0],\"/n\")\n",
    "print(read_summary(n,b,l,40)[1])"
   ]
  },
  {
   "cell_type": "code",
   "execution_count": 1,
   "metadata": {},
   "outputs": [],
   "source": [
    "from news_to_summary import NewsToSummary\n"
   ]
  },
  {
   "cell_type": "code",
   "execution_count": 2,
   "metadata": {},
   "outputs": [],
   "source": [
    "def summarize(bert, network, loss, original_text):\n",
    "    if original_text is None or original_text == \"\":\n",
    "        return \"Did not run\"\n",
    "    text = original_text\n",
    "    for n in network:\n",
    "        for l in loss:\n",
    "            for b in bert:\n",
    "                N = \"LSTM\"if n==\"lstm1\" else \"Transformer\"\n",
    "                B = \"SWUFE bert\" if b==\"swufe_bert\" else \"CN bert\"\n",
    "                B = \"WWM bert\" if b==\"wwm_bert\" else \"CN bert\"\n",
    "                L = \"Weighted\" if l else \"Unweighted\"\n",
    "                lo = \"w_BCEloss\" if l else \"BCEloss\"\n",
    "                news_to_summary = NewsToSummary(network=n,bert=b,loss=lo,\n",
    "                            text=text)\n",
    "                news_to_summary.summary_modified[0]\n",
    "                print(f'{B}-{N}-{L}-summary:',news_to_summary.summary_modified[0])\n"
   ]
  },
  {
   "cell_type": "code",
   "execution_count": 4,
   "metadata": {},
   "outputs": [],
   "source": [
    "txt = \"8月10日，首届世界职业院校技能大赛云计算赛项在天津城市职业学院开赛。该赛项采取中外混合编队形式，每支参赛队包括4名选手，由2名中国学生和2名外国学生组成。来自全国11个院校、10多个国家，共计44名选手云上同台竞技，切磋技艺。\\\n",
    "　　天津城市职业学院副院长刘盛介绍：“云计算赛项天津是主赛场，同时竞技的还有重庆、湖南，包括境外等多个赛场。在赛项设计之初，组委会引入高标准技术要求，11所参赛院校作为分赛场，比赛视频通过一定技术手段接入主赛场，主赛场大屏幕实时显示各个赛场情况。同时，我们安排了英语专业教师作为工作人员与境外选手采用腾讯会议等方式进行赛场沟通、实时监控。对于整个比赛环境的搭建、把控和协调是此次比赛的一项重大挑战与亮点。\""
   ]
  },
  {
   "cell_type": "code",
   "execution_count": 7,
   "metadata": {},
   "outputs": [
    {
     "name": "stderr",
     "output_type": "stream",
     "text": [
      "Some weights of the model checkpoint at hfl/chinese-roberta-wwm-ext-large were not used when initializing BertModel: ['cls.predictions.transform.LayerNorm.bias', 'cls.predictions.transform.dense.weight', 'cls.seq_relationship.bias', 'cls.predictions.decoder.weight', 'cls.predictions.transform.dense.bias', 'cls.predictions.transform.LayerNorm.weight', 'cls.seq_relationship.weight', 'cls.predictions.bias']\n",
      "- This IS expected if you are initializing BertModel from the checkpoint of a model trained on another task or with another architecture (e.g. initializing a BertForSequenceClassification model from a BertForPreTraining model).\n",
      "- This IS NOT expected if you are initializing BertModel from the checkpoint of a model that you expect to be exactly identical (initializing a BertForSequenceClassification model from a BertForSequenceClassification model).\n"
     ]
    },
    {
     "name": "stdout",
     "output_type": "stream",
     "text": [
      "WWM bert-LSTM-Weighted-summary: 8月10日首届世界职业院校技能大赛云计算赛项在天津城市职业学院开赛。该赛项采取中外混合编队形式，每支参赛队包括4名选手，由2名中国学生和2名外国学生组成。来自全国11个院校、10多个国家，共计44名选手云上同台竞技\n"
     ]
    },
    {
     "name": "stderr",
     "output_type": "stream",
     "text": [
      "Some weights of the model checkpoint at hfl/rbt3 were not used when initializing BertModel: ['cls.predictions.transform.LayerNorm.bias', 'cls.predictions.transform.dense.weight', 'cls.seq_relationship.bias', 'cls.predictions.decoder.weight', 'cls.predictions.transform.dense.bias', 'cls.predictions.transform.LayerNorm.weight', 'cls.seq_relationship.weight', 'cls.predictions.bias']\n",
      "- This IS expected if you are initializing BertModel from the checkpoint of a model trained on another task or with another architecture (e.g. initializing a BertForSequenceClassification model from a BertForPreTraining model).\n",
      "- This IS NOT expected if you are initializing BertModel from the checkpoint of a model that you expect to be exactly identical (initializing a BertForSequenceClassification model from a BertForSequenceClassification model).\n"
     ]
    },
    {
     "name": "stdout",
     "output_type": "stream",
     "text": [
      "CN bert-LSTM-Weighted-summary: 8月10日，首届世界职业院校技能大赛云计算赛项在天津城市职业学院开赛。该赛项采取中外混合编队形式，每支参赛队包括4名选手，由2名中国学生和2名外国学生组成。来自全国11个院\n"
     ]
    },
    {
     "name": "stderr",
     "output_type": "stream",
     "text": [
      "Some weights of the model checkpoint at hfl/chinese-roberta-wwm-ext-large were not used when initializing BertModel: ['cls.predictions.transform.LayerNorm.bias', 'cls.predictions.transform.dense.weight', 'cls.seq_relationship.bias', 'cls.predictions.decoder.weight', 'cls.predictions.transform.dense.bias', 'cls.predictions.transform.LayerNorm.weight', 'cls.seq_relationship.weight', 'cls.predictions.bias']\n",
      "- This IS expected if you are initializing BertModel from the checkpoint of a model trained on another task or with another architecture (e.g. initializing a BertForSequenceClassification model from a BertForPreTraining model).\n",
      "- This IS NOT expected if you are initializing BertModel from the checkpoint of a model that you expect to be exactly identical (initializing a BertForSequenceClassification model from a BertForSequenceClassification model).\n"
     ]
    },
    {
     "name": "stdout",
     "output_type": "stream",
     "text": [
      "WWM bert-LSTM-Unweighted-summary: 8月首届世界职业院校技能大赛云计算赛项在天津城市职业学院开赛。该赛项采取中外混合编队形式，每支参赛队包括4名选手，由2名中国学生和2名外国学生组成。来自全国11个院校、10多个国家，共计44名选手云上同台竞技，切技\n"
     ]
    },
    {
     "name": "stderr",
     "output_type": "stream",
     "text": [
      "Some weights of the model checkpoint at hfl/rbt3 were not used when initializing BertModel: ['cls.predictions.transform.LayerNorm.bias', 'cls.predictions.transform.dense.weight', 'cls.seq_relationship.bias', 'cls.predictions.decoder.weight', 'cls.predictions.transform.dense.bias', 'cls.predictions.transform.LayerNorm.weight', 'cls.seq_relationship.weight', 'cls.predictions.bias']\n",
      "- This IS expected if you are initializing BertModel from the checkpoint of a model trained on another task or with another architecture (e.g. initializing a BertForSequenceClassification model from a BertForPreTraining model).\n",
      "- This IS NOT expected if you are initializing BertModel from the checkpoint of a model that you expect to be exactly identical (initializing a BertForSequenceClassification model from a BertForSequenceClassification model).\n"
     ]
    },
    {
     "name": "stdout",
     "output_type": "stream",
     "text": [
      "CN bert-LSTM-Weighted-summary: 8月10日，首届世界职业院校技能大赛云计算赛项在天津城市职业学院开赛。该赛项采取中外混合编队形式，每支参赛队包括4名选手，由2名中国学生和2名外国学生组成。来自全国11个院\n"
     ]
    },
    {
     "name": "stderr",
     "output_type": "stream",
     "text": [
      "Some weights of the model checkpoint at hfl/chinese-roberta-wwm-ext-large were not used when initializing BertModel: ['cls.predictions.transform.LayerNorm.bias', 'cls.predictions.transform.dense.weight', 'cls.seq_relationship.bias', 'cls.predictions.decoder.weight', 'cls.predictions.transform.dense.bias', 'cls.predictions.transform.LayerNorm.weight', 'cls.seq_relationship.weight', 'cls.predictions.bias']\n",
      "- This IS expected if you are initializing BertModel from the checkpoint of a model trained on another task or with another architecture (e.g. initializing a BertForSequenceClassification model from a BertForPreTraining model).\n",
      "- This IS NOT expected if you are initializing BertModel from the checkpoint of a model that you expect to be exactly identical (initializing a BertForSequenceClassification model from a BertForSequenceClassification model).\n"
     ]
    },
    {
     "name": "stdout",
     "output_type": "stream",
     "text": [
      "WWM bert-Transformer-Weighted-summary: ，首届世界职业院校技能大赛云计算赛项在天津城市职业学院开赛。该赛项采取中外混合编队形式，每支参赛队包括4名选手，由2名中国学生和2名外国学生组成。来自全国11个院校、10多个国家，共计44名选手云上同台竞技，\n"
     ]
    },
    {
     "name": "stderr",
     "output_type": "stream",
     "text": [
      "Some weights of the model checkpoint at hfl/rbt3 were not used when initializing BertModel: ['cls.predictions.transform.LayerNorm.bias', 'cls.predictions.transform.dense.weight', 'cls.seq_relationship.bias', 'cls.predictions.decoder.weight', 'cls.predictions.transform.dense.bias', 'cls.predictions.transform.LayerNorm.weight', 'cls.seq_relationship.weight', 'cls.predictions.bias']\n",
      "- This IS expected if you are initializing BertModel from the checkpoint of a model trained on another task or with another architecture (e.g. initializing a BertForSequenceClassification model from a BertForPreTraining model).\n",
      "- This IS NOT expected if you are initializing BertModel from the checkpoint of a model that you expect to be exactly identical (initializing a BertForSequenceClassification model from a BertForSequenceClassification model).\n"
     ]
    },
    {
     "name": "stdout",
     "output_type": "stream",
     "text": [
      "CN bert-Transformer-Weighted-summary: 首届世界职业院校技能大赛云计算赛项在天津城市职业学院开赛。该赛项采取中外混合编队形式，每支参赛队包括4名选手，由2名中国学生和2名外国学生组成。，\n"
     ]
    },
    {
     "name": "stderr",
     "output_type": "stream",
     "text": [
      "Some weights of the model checkpoint at hfl/chinese-roberta-wwm-ext-large were not used when initializing BertModel: ['cls.predictions.transform.LayerNorm.bias', 'cls.predictions.transform.dense.weight', 'cls.seq_relationship.bias', 'cls.predictions.decoder.weight', 'cls.predictions.transform.dense.bias', 'cls.predictions.transform.LayerNorm.weight', 'cls.seq_relationship.weight', 'cls.predictions.bias']\n",
      "- This IS expected if you are initializing BertModel from the checkpoint of a model trained on another task or with another architecture (e.g. initializing a BertForSequenceClassification model from a BertForPreTraining model).\n",
      "- This IS NOT expected if you are initializing BertModel from the checkpoint of a model that you expect to be exactly identical (initializing a BertForSequenceClassification model from a BertForSequenceClassification model).\n"
     ]
    },
    {
     "name": "stdout",
     "output_type": "stream",
     "text": [
      "WWM bert-Transformer-Unweighted-summary: 首届世界职业院校技能大赛云计算赛项在天津城市职业学院开赛。该赛项采取中外混合编队形式，每支参赛队包括4名选手，由2名中国学生和2名外国学生组成。来自全国11个院校、10多个国家，共计44名选手云上同台竞技，切磋\n"
     ]
    },
    {
     "name": "stderr",
     "output_type": "stream",
     "text": [
      "Some weights of the model checkpoint at hfl/rbt3 were not used when initializing BertModel: ['cls.predictions.transform.LayerNorm.bias', 'cls.predictions.transform.dense.weight', 'cls.seq_relationship.bias', 'cls.predictions.decoder.weight', 'cls.predictions.transform.dense.bias', 'cls.predictions.transform.LayerNorm.weight', 'cls.seq_relationship.weight', 'cls.predictions.bias']\n",
      "- This IS expected if you are initializing BertModel from the checkpoint of a model trained on another task or with another architecture (e.g. initializing a BertForSequenceClassification model from a BertForPreTraining model).\n",
      "- This IS NOT expected if you are initializing BertModel from the checkpoint of a model that you expect to be exactly identical (initializing a BertForSequenceClassification model from a BertForSequenceClassification model).\n"
     ]
    },
    {
     "name": "stdout",
     "output_type": "stream",
     "text": [
      "CN bert-Transformer-Weighted-summary: 首届世界职业院校技能大赛云计算赛项在天津城市职业学院开赛。该赛项采取中外混合编队形式，每支参赛队包括4名选手，由2名中国学生和2名外国学生组成。来自全国1多家，\n"
     ]
    }
   ],
   "source": [
    "bert = [\"wwm_bert\",\"cn_bert\"]\n",
    "network = [\"lstm1\",\"transformer1\"]\n",
    "loss = [True,False]\n",
    "\n",
    "summarize(bert, network, loss,txt)"
   ]
  },
  {
   "cell_type": "code",
   "execution_count": null,
   "metadata": {},
   "outputs": [],
   "source": []
  }
 ],
 "metadata": {
  "kernelspec": {
   "display_name": "Python 3.8.13 ('swufe')",
   "language": "python",
   "name": "python3"
  },
  "language_info": {
   "codemirror_mode": {
    "name": "ipython",
    "version": 3
   },
   "file_extension": ".py",
   "mimetype": "text/x-python",
   "name": "python",
   "nbconvert_exporter": "python",
   "pygments_lexer": "ipython3",
   "version": "3.8.13"
  },
  "orig_nbformat": 4,
  "vscode": {
   "interpreter": {
    "hash": "aa46084ac09a53b183332db73d934316dec080233f1a9b03c076216e26986b02"
   }
  }
 },
 "nbformat": 4,
 "nbformat_minor": 2
}
