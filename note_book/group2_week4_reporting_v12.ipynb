{
 "cells": [
  {
   "cell_type": "markdown",
   "metadata": {},
   "source": [
    "<h1 align = \"center\">Grouo2-Week4-Reporting</h1>\n",
    "<h4 align = \"right\">Members:杨开创、王媛、赵心研、樊宇鑫</h4>\n",
    "<h4 align = \"right\">Reporter:杨开创</h4>"
   ]
  },
  {
   "cell_type": "markdown",
   "metadata": {},
   "source": [
    "## 1. Modules Dedign\n",
    "\n"
   ]
  },
  {
   "cell_type": "markdown",
   "metadata": {},
   "source": [
    "\n",
    "\n",
    "<li>data.py</li>\n",
    "\n",
    "<li>model.py</li>\n",
    "\n",
    "<li>util.py</li>\n",
    "\n",
    "<li>extract_summary_finetune_train.py</li>\n",
    "\n",
    "<li>preformance_measures.py</li>\n",
    "\n",
    "<li>click: cmd_run.py</li>\n",
    "\n",
    "<li>extract_summary_news.py</li>\n",
    "\n"
   ]
  },
  {
   "cell_type": "code",
   "execution_count": 1,
   "metadata": {},
   "outputs": [],
   "source": [
    "import click\n",
    "import os\n",
    "import torch\n",
    "import dill\n",
    "import torch.nn as nn\n",
    "from torch.utils.data import DataLoader\n",
    "\n",
    "from extract_summary_finetune.data import SummaryData,SummaryDataset\n",
    "from extract_summary_finetune.model import lstm,transformer\n",
    "from extract_summary_finetune.util import set_seed\n",
    "from extract_summary_finetune.extract_summary_finetune_train import train_model\n",
    "from extract_summary_finetune.performance_measures import calc_auc_score\n",
    "from extract_summary_finetune.extract_summary_from_news import ExtratSummary"
   ]
  },
  {
   "cell_type": "markdown",
   "metadata": {},
   "source": [
    "\n",
    "## 2. Model Selection\n"
   ]
  },
  {
   "cell_type": "markdown",
   "metadata": {},
   "source": [
    "<li> LSTM </li>\n",
    "<li> Transformer(Encoder) </li>"
   ]
  },
  {
   "cell_type": "markdown",
   "metadata": {},
   "source": [
    "model_settings:\n",
    "\n",
    "<li> input_size : 1024 for wwm_bert and swufe_bert ,768 for cn_bert </li>\n",
    "<li> time_step : 512 </li>\n",
    "<li> epoch =  5 </li>\n",
    "<li> learinf_rate = 0.0003 </li>\n",
    "<li> model: LSTM(1,2,3,4) , Transformer(1,2,3,4) </li>\n",
    "<li> bert : swufe_bert , wwm_bert , cn_bert </li>\n",
    "<li> loss: BCEloss , Weighted_BCEloss </li>\n",
    "type = 8 * 3 * 2 = 48\n"
   ]
  },
  {
   "cell_type": "code",
   "execution_count": 2,
   "metadata": {},
   "outputs": [],
   "source": [
    "\n",
    "    input_size = 1024 \n",
    "     \n",
    "    time_step = 512\n",
    "    \n",
    "    epoch =  5 \n",
    "    \n",
    "    learinf_rate = 0.0003 \n",
    "    \n",
    "    loss = \"w_BCEloss\"\n",
    "    \n",
    "    "
   ]
  },
  {
   "cell_type": "markdown",
   "metadata": {},
   "source": [
    "weighted_loss"
   ]
  },
  {
   "cell_type": "code",
   "execution_count": 3,
   "metadata": {},
   "outputs": [],
   "source": [
    "import torch\n",
    "import torch.nn as nn\n",
    "import math\n",
    "import numpy as np\n",
    "\n",
    "def loss_weighted(pred,label):\n",
    "    if (pred.ndim == 3)+(label.ndim == 3)==2:\n",
    "        weight = []\n",
    "        for i in range(label.shape[0]):\n",
    "            sumamary_sign_postion  = -1\n",
    "            distance_score = [0 for i in range(label.shape[1])]\n",
    "            for j in range (label.shape[1]):\n",
    "                distance_score[j] = math.log((j-sumamary_sign_postion)+1)\n",
    "                if (j>0) & (label[i][j-1][0].item()==1) :\n",
    "                    distance_score[j] = distance_score[j-1]\n",
    "                if label[i][j][0].item()==1:\n",
    "                    sumamary_sign_postion = j\n",
    "            row_weight = [[label.shape[1]*item/sum(distance_score)] for item in distance_score]\n",
    "            weight.append(row_weight)\n",
    "        return torch.tensor(weight,dtype=float)\n",
    "    else:\n",
    "        return \"InputError: true_label and pred_label must be .ndim=3 \"\n",
    "    \n",
    "    if is_weighted:\n",
    "        loss = loss_func(weight=loss_weighted(pred,label).float())(pred, label)\n",
    "    else:\n",
    "        loss = loss_func()(pred, label)\n"
   ]
  },
  {
   "cell_type": "code",
   "execution_count": 4,
   "metadata": {},
   "outputs": [],
   "source": [
    "\n",
    "    model_setting_parameters = {\n",
    "    'lstm1':{'input_size':input_size, 'hidden_size':64, 'num_layers':1, 'dropout':0},\n",
    "    'lstm2':{'input_size':input_size, 'hidden_size':128, 'num_layers':1, 'dropout':0},\n",
    "    'lstm3':{'input_size':input_size, 'hidden_size':64, 'num_layers':2, 'dropout':0.05},\n",
    "    'lstm4':{'input_size':input_size, 'hidden_size':128, 'num_layers':2, 'dropout':0.05},\n",
    "    'transformer1':{'d_model':input_size, 'src_len':time_step,'dim_feedforward':128, 'nhead':4, 'num_encoder_layers':1, 'activation':\"relu\",'dropout':0.05},\n",
    "    'transformer2':{'d_model':input_size, 'src_len':time_step,'dim_feedforward':256, 'nhead':4, 'num_encoder_layers':1, 'activation':\"relu\",'dropout':0.05},\n",
    "    'transformer3':{'d_model':input_size, 'src_len':time_step,'dim_feedforward':128, 'nhead':4, 'num_encoder_layers':2, 'activation':\"relu\",'dropout':0.05},\n",
    "    'transformer4':{'d_model':input_size, 'src_len':time_step,'dim_feedforward':256, 'nhead':4, 'num_encoder_layers':2, 'activation':\"relu\",'dropout':0.05}\n",
    "    }"
   ]
  },
  {
   "cell_type": "markdown",
   "metadata": {},
   "source": [
    "## 3. Results\n",
    "<li>log</li>\n",
    "<li>tensorboard</li>\n",
    "\n",
    "(lstm1, trainsformer1)*(swufe_bert , wwm_bert , cn_bert)*(BCEloss , Weighted_BCEloss) = 12"
   ]
  },
  {
   "cell_type": "markdown",
   "metadata": {
    "collapsed": false,
    "pycharm": {
     "name": "#%% md\n"
    }
   },
   "source": [
    "loss & auc"
   ]
  },
  {
   "cell_type": "code",
   "execution_count": 12,
   "metadata": {},
   "outputs": [
    {
     "data": {
      "text/html": [
       "\n",
       "      <iframe id=\"tensorboard-frame-2bc3eb89886213cc\" width=\"100%\" height=\"800\" frameborder=\"0\">\n",
       "      </iframe>\n",
       "      <script>\n",
       "        (function() {\n",
       "          const frame = document.getElementById(\"tensorboard-frame-2bc3eb89886213cc\");\n",
       "          const url = new URL(\"/\", window.location);\n",
       "          const port = 6007;\n",
       "          if (port) {\n",
       "            url.port = port;\n",
       "          }\n",
       "          frame.src = url;\n",
       "        })();\n",
       "      </script>\n",
       "    "
      ],
      "text/plain": [
       "<IPython.core.display.HTML object>"
      ]
     },
     "metadata": {},
     "output_type": "display_data"
    }
   ],
   "source": [
    "%load_ext tensorboard\n",
    "%tensorboard --logdir runs/train"
   ]
  },
  {
   "cell_type": "code",
   "execution_count": 5,
   "metadata": {},
   "outputs": [],
   "source": [
    "from extract_summary_finetune.display_by_tensorboard import MyTensorboard\n",
    "\n",
    "tb_loss_auc = MyTensorboard(\"/home/yuxin.fan/tensorboard_display\",\"/home/yuxin.fan/result/\")\n",
    "tb_loss_auc.read_file('summary_lstm1_cn_bert_BCEloss.dil')\n",
    "tb_loss_auc.step_loss()\n",
    "tb_loss_auc.epoch_metric()\n",
    "tb_loss_auc.tensorboard_close()"
   ]
  },
  {
   "cell_type": "markdown",
   "metadata": {
    "collapsed": false,
    "pycharm": {
     "name": "#%% md\n"
    }
   },
   "source": [
    "hparams"
   ]
  },
  {
   "cell_type": "code",
   "execution_count": 6,
   "metadata": {
    "collapsed": false,
    "pycharm": {
     "name": "#%%\n"
    }
   },
   "outputs": [],
   "source": [
    "tb_hparams = MyTensorboard(\"/home/yuxin.fan/tensorboard_display\",\"/home/yuxin.fan/result/\")\n",
    "tb_hparams.file_hparams(lr=0.0005, batch_size=50)\n",
    "tb_hparams.tensorboard_close()"
   ]
  },
  {
   "cell_type": "markdown",
   "metadata": {
    "collapsed": false,
    "pycharm": {
     "name": "#%% md\n"
    }
   },
   "source": [
    "cn/wwm/swufe"
   ]
  },
  {
   "cell_type": "code",
   "execution_count": 7,
   "metadata": {
    "collapsed": false,
    "pycharm": {
     "name": "#%%\n"
    }
   },
   "outputs": [],
   "source": [
    "tb_3_models = MyTensorboard(\"/home/yuxin.fan/tensorboard_display\",\"/home/yuxin.fan/result/\")\n",
    "tb_3_models.models_loss_auc()\n",
    "tb_3_models.tensorboard_close()"
   ]
  },
  {
   "cell_type": "markdown",
   "metadata": {},
   "source": [
    "![jupyter](/home/yuxin.fan/extract_summary_finetune/note_book/picture/sendpix0.jpg)\n",
    "![jupyter](/home/yuxin.fan/extract_summary_finetune/note_book/picture/sendpix1.jpg)\n",
    "![jupyter](/home/yuxin.fan/extract_summary_finetune/note_book/picture/sendpix2.jpg)\n",
    "\n",
    "![jupyter](/home/yuxin.fan/extract_summary_finetune/note_book/picture/sendpix3.jpg)\n",
    "![jupyter](/home/yuxin.fan/extract_summary_finetune/note_book/picture/sendpix4.jpg)\n",
    "![jupyter](/home/yuxin.fan/extract_summary_finetune/note_book/picture/sendpix5.jpg)\n",
    "![jupyter](/home/yuxin.fan/extract_summary_finetune/note_book/picture/sendpix6.jpg)"
   ]
  },
  {
   "cell_type": "markdown",
   "metadata": {},
   "source": [
    "![jupyter](/home/yuxin.fan/extract_summary_finetune/note_book/picture/sendpix7.jpg)"
   ]
  },
  {
   "cell_type": "markdown",
   "metadata": {},
   "source": [
    "## 4. Summary Example"
   ]
  },
  {
   "cell_type": "code",
   "execution_count": 8,
   "metadata": {
    "pycharm": {
     "name": "#%%\n"
    }
   },
   "outputs": [
    {
     "name": "stdout",
     "output_type": "stream",
     "text": [
      "summary:\n",
      "cn:[汽车之家 新车上市] 日前，我们从官方获悉，特斯拉（中国）官网针对在售的Model S(参数|询价)长续航版、Performance高性能版的价格进行了下调，调整后售价为73.39万、83.39万元，降价幅度均为2.3万元\n",
      "wwm:[汽车官获悉，特斯拉（中国）官网针对在售的Model S(参数|询价)长续航版erormance高性能版的价格进行了下调，调整后售价为73.39万、83.39万元，降价度均为2.3万元。长续航\n",
      "swufe:[汽车之车官方获悉，特斯拉（中国）官网针对在售的Model S(参数|询价)长续航版、Performance高性能版的价格进行了下调，调整后售价为73.39万、83.39万元，降价幅度均为2.3万续航版的ND里6\n",
      "modified_summary:\n",
      "cn:[汽车之家 新车上市] 日前，我们从官方获悉，特斯拉（中国）官网针对在售的Model S(参数|询价)长续航版、Performance高性能版的价格进行了下调，调整后售价为73.39万、83.39万元，降价幅度均为2.3万元\n",
      "wwm:[汽车官获悉，特斯拉（中国）官网针对在售的Model S(参数|询价)长续航版、Performance高性能版的价格进行了下调，调整后售价为73.39万、83.39万元，降价幅度均为2.3万元。\n",
      "swufe:[汽车之车我们从官方获悉，特斯拉（中国）官网针对在售的Model S(参数|询价)长续航版、Performance高性能版的价格进行了下调，调整后售价为73.39万、83.39万元，降价幅度均为2.3万元续航版的ND里6\n",
      "news:\n",
      "{'[汽车之家 新车上市] 日前，我们从官方获悉，特斯拉（中国）官网针对在售的Model S(参数|询价)长续航版、Performance高性能版的价格进行了下调，调整后售价为73.39万、83.39万元，降价幅度均为2.3万元。长续航版的NEDC续航里程为660km，0-100km加速时间为3.8秒；Performance高性能版0-100km加速时间仅为2.5秒。目前特斯拉（中国）官网显示的Model S共有三款车型，分别为长续航版、Performance 高性能版和Plaid版，此次调价仅针对前面两款车型。值得一提的是，特斯拉Model S的上一次调价是在7月份，全系车型下调幅度为0.8万元。今年5月份的调价幅度更大，特斯拉Model S全系车型售价下调了2.9万元。特斯拉Model S的整体造型设计并没有变化，动力同样没有发生改动，长续航版和Performance高性能版均搭载双电机，总最大功率分别为487千瓦、577千瓦，0-100km/h加速时间分别为3.8秒和2.5秒，二者的NEDC续航里程分别为660km、650km。（文/汽车之家 侯明浩）（责任编辑：王治强 HF013）。'}\n"
     ]
    }
   ],
   "source": [
    "from extract_summary_finetune.extract_summary_from_news import ExtratSummary\n",
    "s1 = ExtratSummary(network=\"lstm1\",bert=\"cn_bert\",loss=\"BCEloss\",data_path='/home/yuxin.fan/feature_from_cn_bert.npy').results_dataframe\n",
    "s2 = ExtratSummary(network=\"lstm1\",bert=\"wwm_bert\",loss=\"BCEloss\",data_path='/home/yuxin.fan/feature_from_wwm_bert.npy').results_dataframe\n",
    "s3 = ExtratSummary(network=\"lstm1\",bert=\"swufe_bert\",loss=\"BCEloss\").results_dataframe\n",
    "print('summary:')\n",
    "print(f'cn:{s1[\"summary\"][0]}')\n",
    "print(f'wwm:{s2[\"summary\"][0]}')![jupyter](/home/yuxin.fan/extract_summary_finetune/note_book/picture/sendpix7.jpg)\n",
    "print(f'cn:{s1[\"summary_modified\"][0]}')\n",
    "print(f'wwm:{s2[\"summary_modified\"][0]}')\n",
    "print(f'swufe:{s3[\"summary_modified\"][0]}')\n",
    "print('news:')\n",
    "print({s1['content'][0]})"
   ]
  },
  {
   "cell_type": "code",
   "execution_count": 9,
   "metadata": {},
   "outputs": [],
   "source": [
    "def modify_labels(self):\n",
    "        news_to_sentences = self.divide_sentences()\n",
    "        predict_label_modified = []\n",
    "        for k in range(len(news_to_sentences)):\n",
    "            sentences_length_list = [len(sentence) for sentence in news_to_sentences[k]]\n",
    "            start_index = 0\n",
    "            label_modified_list = []\n",
    "            for i in range(len(sentences_length_list)):\n",
    "                end_index = start_index + sentences_length_list[i]\n",
    "                label_divided = list(self.predict_label[k][start_index:end_index])\n",
    "                if sum(label_divided) > 0.5*len(label_divided):\n",
    "                    label_modified = [True for item in label_divided]\n",
    "                elif sum(label_divided) < 0.2*len(label_divided):\n",
    "                    label_modified = [False for item in label_divided]\n",
    "                else:\n",
    "                    label_modified = label_divided\n",
    "                label_modified_list.extend(label_modified)\n",
    "                start_index = end_index\n",
    "            predict_label_modified.append(np.array(label_modified_list))\n",
    "        return np.array(predict_label_modified)\n",
    "    "
   ]
  },
  {
   "cell_type": "code",
   "execution_count": 15,
   "metadata": {
    "collapsed": false,
    "pycharm": {
     "name": "#%%\n"
    }
   },
   "outputs": [
    {
     "name": "stdout",
     "output_type": "stream",
     "text": [
      "summary:\n",
      "cn:[汽车之家 新车上市 前，我们从官方获悉，特斯拉（中国）官网针对在售的Model S(参数|询价)长续航版、Performance高性能版的价格进行了下调，调整后售价为73.39万、83.39万元，降价幅度均为2.3万长\n",
      "wwm:新车上市前们从官方获悉，特斯拉（中国）官网针对在售的Model S(参数|询价)长续航版、Performance高性能版的价格进行了下调，调整后售价为73.39万、83.9万，降价度均3航\n",
      "swufe:斯拉（国）网针对在售o参数|询价)续航版、Performance高性能版的价格进了下调，调整后价为73.39万83.万度2.3D特化，动C\n",
      "modified_summary:\n",
      "cn:[汽车之家 新车上市] 日前，我们从官方获悉，特斯拉（中国）官网针对在售的Model S(参数|询价)长续航版、Performance高性能版的价格进行了下调，调整后售价为73.39万、83.39万元，降价幅度均为2.3万元\n",
      "wwm:新车上市前我们从官方获悉，特斯拉（中国）官网针对在售的Model S(参数|询价)长续航版、Performance高性能版的价格进行了下调，调整后售价为73.39万、83.39万元，降价度均3\n",
      "swufe:特斯拉（中国）官网针对在售的Model S(参数|询价)长续航版、Performance高性能版的价格进行了下调，调整后售价为73.39万、83.39万元度2.3，\n",
      "news:\n",
      "{'在2018年的大牛行情过后，2019年的债市将如何演绎？多位基金经理在接受记者采访时表示，去年的快速上涨收窄了债市继续上扬的空间，尤其是利率债的机会明显减少，但整体牛市的格局不会变化，今年可能处于阶段性的“牛尾行情”。基于这一判断，许多基金经理将债市淘金的对象指向信用债，期望从“信用利差”中获取超额收益。适度下沉信用资质\\\\u3000\\\\u3000在基金经理眼里，利率债的强势上扬催生了去年的大牛市，今年信用债有可能成为债市新主角，为债基提供了结构性投资机会。她指出，历史上的债券行情，一般以利率债为开端，此后轮动到高、中、低等级信用债，最后以垃圾债收尾。建信中短债纯债基金的拟任基金经理李峰也表示，去年由于信用债违约潮的出现，利率债和信用债的利差不减反增，直到2018年四季度才有所好转。随着今年利率债的投资价值降低和宽货币效果的逐步显现，利率债和信用债的利差有望进一步压缩，信用债的票息优势会逐步体现，叠加其收益率的下行，信用债将成为今年最大的看点。可转债渐成焦点\\\\u3000\\\\u3000除了紧盯“信用利差”的投资机会，A股市场开春以来的大幅上涨，也让可转债成为债基眼中的“香饽饽”。'}\n"
     ]
    }
   ],
   "source": [
    "s1 = ExtratSummary(network=\"transformer1\",bert=\"cn_bert\",loss=\"BCEloss\",data_path='/home/yuxin.fan/feature_from_cn_bert.npy').results_dataframe\n",
    "s2 = ExtratSummary(network=\"transformer1\",bert=\"wwm_bert\",loss=\"BCEloss\",data_path='/home/yuxin.fan/feature_from_wwm_bert.npy').results_dataframe\n",
    "s3 = ExtratSummary(network=\"transformer1\",bert=\"swufe_bert\",loss=\"BCEloss\").results_dataframe\n",
    "print('summary:')\n",
    "print(f'cn:{s1[\"summary\"][0]}')\n",
    "print(f'wwm:{s2[\"summary\"][0]}')\n",
    "print(f'swufe:{s3[\"summary\"][0]}')\n",
    "print('modified_summary:')\n",
    "print(f'cn:{s1[\"summary_modified\"][0]}')\n",
    "print(f'wwm:{s2[\"summary_modified\"][0]}')\n",
    "print(f'swufe:{s3[\"summary_modified\"][0]}')\n",
    "print('news:')\n",
    "print({s1['content'][2]})"
   ]
  },
  {
   "cell_type": "code",
   "execution_count": 11,
   "metadata": {
    "collapsed": false,
    "pycharm": {
     "name": "#%%\n"
    }
   },
   "outputs": [
    {
     "name": "stdout",
     "output_type": "stream",
     "text": [
      "summary:\n",
      "cn:[汽车之家 新车上市] 日前，我们从官方获悉，特斯拉（中国）官网针对在售的Model S(参数|询价)长续航版、Performance高性能版的价格进行了下调，调整后售价为73.39万、83.39万元，降价幅度均为2.3万\n",
      "wwm:[汽车，从官方获悉，特斯拉（中国）官网针对在售的Mode S数|询价)ance高性能版的价格进行了下调，调整后售价为73.39万、83.39万元，降度均为2.3万元\n",
      "swufe:[汽车之新车 日前，我们从官方获悉，特斯拉（中国）官网针对在售的Model S(参数|询价)长续航版、Performance高性能版的价格进行了下调，调整后售价为73.39万、83.39万元，降价度均为2.3万\n",
      "modified_summary:\n",
      "cn:[汽车之家 新车上市] 日前，我们从官方获悉，特斯拉（中国）官网针对在售的Model S(参数|询价)长续航版、Performance高性能版的价格进行了下调，调整后售价为73.39万、83.39万元，降价幅度均为2.3万元\n",
      "wwm:[汽车，我们从官方获悉，特斯拉（中国）官网针对在售的Model S(参数|询价)长续航版、Performance高性能版的价格进行了下调，调整后售价为73.39万、83.39万元，降价幅度均为2.3万元\n",
      "swufe:[汽车之家 新车上市] 日前，我们从官方获悉，特斯拉（中国）官网针对在售的Model S(参数|询价)长续航版、Performance高性能版的价格进行了下调，调整后售价为73.39万、83.39万元，降价幅度均为2.3万元\n",
      "news:\n",
      "{'[汽车之家 新车上市] 日前，我们从官方获悉，特斯拉（中国）官网针对在售的Model S(参数|询价)长续航版、Performance高性能版的价格进行了下调，调整后售价为73.39万、83.39万元，降价幅度均为2.3万元。长续航版的NEDC续航里程为660km，0-100km加速时间为3.8秒；Performance高性能版0-100km加速时间仅为2.5秒。目前特斯拉（中国）官网显示的Model S共有三款车型，分别为长续航版、Performance 高性能版和Plaid版，此次调价仅针对前面两款车型。值得一提的是，特斯拉Model S的上一次调价是在7月份，全系车型下调幅度为0.8万元。今年5月份的调价幅度更大，特斯拉Model S全系车型售价下调了2.9万元。特斯拉Model S的整体造型设计并没有变化，动力同样没有发生改动，长续航版和Performance高性能版均搭载双电机，总最大功率分别为487千瓦、577千瓦，0-100km/h加速时间分别为3.8秒和2.5秒，二者的NEDC续航里程分别为660km、650km。（文/汽车之家 侯明浩）（责任编辑：王治强 HF013）。'}\n"
     ]
    }
   ],
   "source": [
    "s1 = ExtratSummary(network=\"lstm1\",bert=\"cn_bert\",loss=\"w_BCEloss\",data_path='/home/yuxin.fan/feature_from_cn_bert.npy').results_dataframe\n",
    "s2 = ExtratSummary(network=\"lstm1\",bert=\"wwm_bert\",loss=\"w_BCEloss\",data_path='/home/yuxin.fan/feature_from_wwm_bert.npy').results_dataframe\n",
    "s3 = ExtratSummary(network=\"lstm1\",bert=\"swufe_bert\",loss=\"w_BCEloss\").results_dataframe\n",
    "print('summary:')\n",
    "print(f'cn:{s1[\"summary\"][0]}')\n",
    "print(f'wwm:{s2[\"summary\"][0]}')\n",
    "print(f'swufe:{s3[\"summary\"][0]}')\n",
    "print('modified_summary:')\n",
    "print(f'cn:{s1[\"summary_modified\"][0]}')\n",
    "print(f'wwm:{s2[\"summary_modified\"][0]}')\n",
    "print(f'swufe:{s3[\"summary_modified\"][0]}')\n",
    "print('news:')\n",
    "print({s1['content'][0]})"
   ]
  },
  {
   "cell_type": "code",
   "execution_count": 11,
   "metadata": {
    "collapsed": false,
    "pycharm": {
     "name": "#%%\n"
    }
   },
   "outputs": [
    {
     "name": "stdout",
     "output_type": "stream",
     "text": [
      "summary:\n",
      "cn:车新车上市，们从官方获悉，特斯拉（中国）官网针对在售的Model S(参数|询价)长续航版、Performance高性能版的价格进行了下调，调整后售价为73.39万、83.39万元，降价均为2.\n",
      "wwm:新车上市前从官悉，特斯拉（中国）官网针对在售的Modl (参数|询价)长续航版、Performance高性能版的价格进行了下调，调整后售价为73.39万、83.9价均航\n",
      "swufe:拉（针对在售o参数|询价)续航版Performanc高性能版的价格进了下调，整后价为73.39万、23\n",
      "modified_summary:\n",
      "cn:车新车上市，我们从官方获悉，特斯拉（中国）官网针对在售的Model S(参数|询价)长续航版、Performance高性能版的价格进行了下调，调整后售价为73.39万、83.39万元，降价幅度均为2.3万元\n",
      "wwm:新车上市前从官悉，特斯拉（中国）官网针对在售的Model S(参数|询价)长续航版、Performance高性能版的价格进行了下调，调整后售价为73.39万、83.39万元\n",
      "swufe:特斯拉（中国）官网针对在售的Model S(参数|询价)长续航版、Performance高性能版的价格进行了下调，调整后售价为73.39万、83.39万元\n",
      "news:\n",
      "{'[汽车之家 新车上市] 日前，我们从官方获悉，特斯拉（中国）官网针对在售的Model S(参数|询价)长续航版、Performance高性能版的价格进行了下调，调整后售价为73.39万、83.39万元，降价幅度均为2.3万元。长续航版的NEDC续航里程为660km，0-100km加速时间为3.8秒；Performance高性能版0-100km加速时间仅为2.5秒。目前特斯拉（中国）官网显示的Model S共有三款车型，分别为长续航版、Performance 高性能版和Plaid版，此次调价仅针对前面两款车型。值得一提的是，特斯拉Model S的上一次调价是在7月份，全系车型下调幅度为0.8万元。今年5月份的调价幅度更大，特斯拉Model S全系车型售价下调了2.9万元。特斯拉Model S的整体造型设计并没有变化，动力同样没有发生改动，长续航版和Performance高性能版均搭载双电机，总最大功率分别为487千瓦、577千瓦，0-100km/h加速时间分别为3.8秒和2.5秒，二者的NEDC续航里程分别为660km、650km。（文/汽车之家 侯明浩）（责任编辑：王治强 HF013）。'}\n"
     ]
    }
   ],
   "source": [
    "s1 = ExtratSummary(network=\"transformer1\",bert=\"cn_bert\",loss=\"w_BCEloss\",data_path='/home/yuxin.fan/feature_from_cn_bert.npy').results_dataframe\n",
    "s2 = ExtratSummary(network=\"transformer1\",bert=\"wwm_bert\",loss=\"w_BCEloss\",data_path='/home/yuxin.fan/feature_from_wwm_bert.npy').results_dataframe\n",
    "s3 = ExtratSummary(network=\"transformer1\",bert=\"swufe_bert\",loss=\"w_BCEloss\").results_dataframe\n",
    "print('summary:')\n",
    "print(f'cn:{s1[\"summary\"][0]}')\n",
    "print(f'wwm:{s2[\"summary\"][0]}')\n",
    "print(f'swufe:{s3[\"summary\"][0]}')\n",
    "print('modified_summary:')\n",
    "print(f'cn:{s1[\"summary_modified\"][0]}')\n",
    "print(f'wwm:{s2[\"summary_modified\"][0]}')\n",
    "print(f'swufe:{s3[\"summary_modified\"][0]}')\n",
    "print('news:')\n",
    "print({s1['content'][0]})"
   ]
  },
  {
   "cell_type": "markdown",
   "metadata": {},
   "source": [
    "## 5. Problems and Questions"
   ]
  },
  {
   "cell_type": "markdown",
   "metadata": {},
   "source": [
    "<li>1.transformer模型中的FFN层为什么要把每个字的维度扩大再还原。</li>\n",
    "<li>2.加权loss的要怎么合理的设置，可以通过哪些有据可依的加权方法对于关注部分给予更高的权重。</li>\n",
    "<li>3.由于本次语料规律性很强，比如来自某个网站的企业公告，自己在标注时就会先入为主的只看重点关注的位置。而本次语料库有大量格式相似的语料，是否可以利用python一些优秀的中文语言处理库，先对语料进行特征工程然后分类然后对loss 权重函数按类进行编写。</li>\n"
   ]
  }
 ],
 "metadata": {
  "kernelspec": {
   "display_name": "Python 3.8.13 ('swufe')",
   "language": "python",
   "name": "python3"
  },
  "language_info": {
   "codemirror_mode": {
    "name": "ipython",
    "version": 3
   },
   "file_extension": ".py",
   "mimetype": "text/x-python",
   "name": "python",
   "nbconvert_exporter": "python",
   "pygments_lexer": "ipython3",
   "version": "3.8.13"
  },
  "orig_nbformat": 4,
  "vscode": {
   "interpreter": {
    "hash": "aa46084ac09a53b183332db73d934316dec080233f1a9b03c076216e26986b02"
   }
  }
 },
 "nbformat": 4,
 "nbformat_minor": 2
}
