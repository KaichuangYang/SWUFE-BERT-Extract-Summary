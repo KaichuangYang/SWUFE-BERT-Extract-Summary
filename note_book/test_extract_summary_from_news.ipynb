{
 "cells": [
  {
   "cell_type": "code",
   "execution_count": 2,
   "metadata": {},
   "outputs": [],
   "source": [
    "from extract_summary_finetune.extract_summary_from_news import ExtratSummary"
   ]
  },
  {
   "cell_type": "code",
   "execution_count": 2,
   "metadata": {},
   "outputs": [
    {
     "data": {
      "text/plain": [
       "<extract_summary_finetune.extract_summary_from_news.ExtratSummary at 0x7f8de266c190>"
      ]
     },
     "execution_count": 2,
     "metadata": {},
     "output_type": "execute_result"
    }
   ],
   "source": [
    "ExtratSummary(network=\"lstm1\",bert=\"swufe_bert\",loss=\"BCEloss\")\n",
    "ExtratSummary(network=\"transformer1\",bert=\"swufe_bert\",loss=\"BCEloss\")"
   ]
  },
  {
   "cell_type": "code",
   "execution_count": 3,
   "metadata": {},
   "outputs": [
    {
     "data": {
      "text/plain": [
       "<extract_summary_finetune.extract_summary_from_news.ExtratSummary at 0x7efebf36e880>"
      ]
     },
     "execution_count": 3,
     "metadata": {},
     "output_type": "execute_result"
    }
   ],
   "source": [
    "ExtratSummary(network=\"transformer2\",bert=\"swufe_bert\",loss=\"BCEloss\")"
   ]
  },
  {
   "cell_type": "code",
   "execution_count": 4,
   "metadata": {},
   "outputs": [
    {
     "data": {
      "text/plain": [
       "<extract_summary_finetune.extract_summary_from_news.ExtratSummary at 0x7f8d7fedde20>"
      ]
     },
     "execution_count": 4,
     "metadata": {},
     "output_type": "execute_result"
    }
   ],
   "source": [
    "ExtratSummary(network=\"lstm1\",bert=\"swufe_bert\",loss=\"w_BCEloss\")"
   ]
  },
  {
   "cell_type": "code",
   "execution_count": 1,
   "metadata": {},
   "outputs": [],
   "source": [
    "import numpy as np\n",
    "import pandas as pd\n",
    "file = \"/home/yuxin.fan/extract_summary_finetune/news_sample.csv\"\n",
    "news = pd.read_csv(file)\n",
    "text = list(news['news'])\n",
    "\n",
    "\n"
   ]
  },
  {
   "cell_type": "code",
   "execution_count": 4,
   "metadata": {},
   "outputs": [
    {
     "name": "stderr",
     "output_type": "stream",
     "text": [
      "Some weights of the model checkpoint at /home/yuxin.fan/extract_summary_finetune/checkpoint-1496860 were not used when initializing BertModel: ['cls.predictions.decoder.weight', 'cls.predictions.transform.LayerNorm.weight', 'cls.predictions.bias', 'cls.predictions.transform.dense.bias', 'cls.predictions.decoder.bias', 'cls.predictions.transform.LayerNorm.bias', 'cls.predictions.transform.dense.weight']\n",
      "- This IS expected if you are initializing BertModel from the checkpoint of a model trained on another task or with another architecture (e.g. initializing a BertForSequenceClassification model from a BertForPreTraining model).\n",
      "- This IS NOT expected if you are initializing BertModel from the checkpoint of a model that you expect to be exactly identical (initializing a BertForSequenceClassification model from a BertForSequenceClassification model).\n",
      "Some weights of BertModel were not initialized from the model checkpoint at /home/yuxin.fan/extract_summary_finetune/checkpoint-1496860 and are newly initialized: ['bert.pooler.dense.bias', 'bert.pooler.dense.weight']\n",
      "You should probably TRAIN this model on a down-stream task to be able to use it for predictions and inference.\n"
     ]
    }
   ],
   "source": [
    "from transformers import BertTokenizer , BertModel                      \n",
    "bert_tokenizer = BertTokenizer.from_pretrained(\"hfl/chinese-roberta-wwm-ext-large\")\n",
    "bert_model = BertModel.from_pretrained(\"/home/yuxin.fan/extract_summary_finetune/???\") \n",
    "   "
   ]
  },
  {
   "cell_type": "code",
   "execution_count": 2,
   "metadata": {},
   "outputs": [
    {
     "data": {
      "text/plain": [
       "10"
      ]
     },
     "execution_count": 2,
     "metadata": {},
     "output_type": "execute_result"
    }
   ],
   "source": [
    "text = list(news['news'])\n",
    "len(text)"
   ]
  },
  {
   "cell_type": "code",
   "execution_count": 22,
   "metadata": {},
   "outputs": [],
   "source": [
    "token_ids = bert_tokenizer(text,padding=\"max_length\",truncation=True,max_length=512,return_tensors='pt')\n",
    "token = bert_model(token_ids['input_ids'])['last_hidden_state'].detach().numpy()"
   ]
  },
  {
   "cell_type": "code",
   "execution_count": 3,
   "metadata": {},
   "outputs": [],
   "source": [
    "\n",
    "a = str(text)\n",
    "\n",
    "\n"
   ]
  },
  {
   "cell_type": "code",
   "execution_count": 44,
   "metadata": {},
   "outputs": [],
   "source": [
    "with open(\"/home/yuxin.fan/sample_text.txt\", \"w\", encoding=\"utf-8\") as f:\n",
    "    f.write(a)"
   ]
  },
  {
   "cell_type": "code",
   "execution_count": 5,
   "metadata": {},
   "outputs": [],
   "source": [
    "x =  \"/home/yuxin.fan/cn_bert_sample_token.npy\"\n",
    "y =  \"/home/yuxin.fan/wwm_bert_sample_token.npy\"\n",
    "z =  \"/home/yuxin.fan/swufe_bert_sample_token.npy\""
   ]
  },
  {
   "cell_type": "code",
   "execution_count": 6,
   "metadata": {},
   "outputs": [],
   "source": [
    "from extract_summary_finetune.extract_summary_from_news import ExtratSummary\n",
    "news_path='/home/yuxin.fan/sample_text.txt'\n",
    "e1 = ExtratSummary(network=\"transformer1\",bert=\"cn_bert\",loss=\"BCEloss\",data_path=x,news_path=news_path)\n",
    "e2 = ExtratSummary(network=\"lstm1\",bert=\"cn_bert\",loss=\"BCEloss\",data_path=x,news_path=news_path)\n",
    "e3 = ExtratSummary(network=\"transformer1\",bert=\"wwm_bert\",loss=\"BCEloss\",data_path=y,news_path=news_path)\n",
    "e4 = ExtratSummary(network=\"lstm1\",bert=\"wwm_bert\",loss=\"BCEloss\",data_path=y,news_path=news_path)\n",
    "e5 = ExtratSummary(network=\"transformer1\",bert=\"swufe_bert\",loss=\"BCEloss\",data_path=z,news_path=news_path)\n",
    "e6 = ExtratSummary(network=\"lstm1\",bert=\"swufe_bert\",loss=\"BCEloss\",data_path=z,news_path=news_path)\n"
   ]
  },
  {
   "cell_type": "code",
   "execution_count": 7,
   "metadata": {},
   "outputs": [
    {
     "name": "stdout",
     "output_type": "stream",
     "text": [
      "全球知名指数公司MSCI宣布了季度审核变更结果。在本次调整中，MSCI中国指数新纳入7只中国股票，剔除2只。值得注意的是，新能源产业链标的成为本次调整的重头戏。被新纳入的7只标的中，\n",
      "，全球知名指数公司MSCI宣布了季度审核变更结果。在本次调整中，MSCI中国指数新纳入7只中国股票，剔除2只。值得注意的是，新能源产业链标的成为本次调整的重头戏。被新纳入的7只标的中，有5家公司业务与新能源板块紧密相关。\n",
      "全球知名指数公司MSCI宣布了季度审核变更结果。在本次调整中，MSCI中国指数新纳入7只中国股票，剔除2只。值得注意的是，新能源产业链标的成为本次调整的重头戏。被新纳入的7只标的中，有5家公司业务与新能源板块紧密相关\n",
      "，全球知名指数公司MSCI宣布了季度审核变更结果。在本次调整中，MSCI中国指数新纳入7只中国股票，剔除2只。值得注意的是，新能源产业链标的成为本次调整的重头戏\n",
      "全球知名指数公司MSCI宣布了季度审核变更结果。在本次调整中，MSCI中国指数新纳入7只中国股票剔除2只值得注意的是，新能源产业链标的成为本次调整的重头戏被新纳入的7只标的中。\n",
      "北京时间8月12日早间，全球知名指数公司MSCI宣布了季度审核变更结果。在本次调整中，MSCI中国指数新纳入7只中国股票，剔除2只。值得注意的是，新能源产业链标的成为本次调整的重头戏。被新纳入的7只标的中，有5家公司业务与新能源板块紧密相关,在MSCI的系列指数中\n"
     ]
    }
   ],
   "source": [
    "k = 8\n",
    "for i in range(1,7):\n",
    "    print(locals()[f'e{i}'].summary_modified[k])"
   ]
  },
  {
   "cell_type": "code",
   "execution_count": 62,
   "metadata": {},
   "outputs": [
    {
     "name": "stdout",
     "output_type": "stream",
     "text": [
      "北京时间8月12日早间，全球知名指数公司MSCI宣布了季度审核变更结果。在本次调整中，MSCI中国指数新纳入7只中国股票，剔除2只。值得注意的是，新能源产业链标的成为本次调整的重头戏。被新纳入的7只标的中，有5家公司业务与新能源板块紧密相关。\n",
      "新纳入7只中国股票,在MSCI的系列指数中，涉及A股的包括MSCI中国指数、MSCI中国A股在岸指数以及MSCI中国全股票指数。其中最值得关注的是MSCI中国指数。由于该指数被嵌套进MSCI新兴市场指数，因此股票进入MSCI中国指数，便意味着进入了MSCI全球标准指数系列，将获得大量被动资金跟踪。MSCI中国指数本次新增7只标的，均为A股标的，分别是同仁堂、招商轮船、派能科技、盐湖股份、天齐锂业、云天化、藏格矿业。从调入股票所属行业来看，本次调整中新能源产业链标的被调入居多，盐湖股份、天齐锂业、藏格矿业均为盐湖提锂概念龙头，派能科技则是全球储能品牌领导者之一，作为磷化工巨头的云天化，亦被市场视作未来锂电材料的优质供应商。本次MSCI季度指数调整，将于8月31日收盘后正式生效。因此，被MSCI中国指数新纳入个股，或将在当天尾盘迎来海外被动指数资金卡点买入。除新纳入股票之外，MSCI中国指数本次剔除了2只中国股票，均为港股标的，分别是旭辉永升服务、龙光集团。于港股上市的龙光集团，今年以来股价持续下跌，跌幅超63%。8月7日晚间，龙光集团发布了暂停付息的公告称，正式宣布违约。自8月9日起，公司连续停牌，至今尚未复牌。\n"
     ]
    }
   ],
   "source": [
    "print(text[k])"
   ]
  },
  {
   "cell_type": "code",
   "execution_count": 48,
   "metadata": {},
   "outputs": [
    {
     "name": "stdout",
     "output_type": "stream",
     "text": [
      "{}\n",
      "{}\n",
      "{}\n"
     ]
    }
   ],
   "source": [
    "for i in range(3):\n",
    "    locals()['d{}'.format(i)] = {}\n",
    "    print(locals()['d' + str(i)])"
   ]
  },
  {
   "cell_type": "code",
   "execution_count": 5,
   "metadata": {},
   "outputs": [
    {
     "data": {
      "text/plain": [
       "<extract_summary_finetune.extract_summary_from_news.ExtratSummary at 0x7f8de267edf0>"
      ]
     },
     "execution_count": 5,
     "metadata": {},
     "output_type": "execute_result"
    }
   ],
   "source": [
    "ExtratSummary(network=\"transformer1\",bert=\"swufe_bert\",loss=\"w_BCEloss\")"
   ]
  },
  {
   "cell_type": "code",
   "execution_count": 2,
   "metadata": {},
   "outputs": [],
   "source": [
    "from torch.utils.tensorboard import SummaryWriter\n",
    "import os\n",
    "\n",
    "\n",
    "write_pr = SummaryWriter(log_dir=os.path.join('/home/yuxin.fan/tensorboard_log/',f'tensorboard_{1}_{2}_{3}/pr/'), flush_secs=1)"
   ]
  },
  {
   "cell_type": "markdown",
   "metadata": {},
   "source": [
    "\n"
   ]
  },
  {
   "cell_type": "code",
   "execution_count": 5,
   "metadata": {},
   "outputs": [],
   "source": [
    "def www(write_pr,b):\n",
    "    key(write_pr)\n",
    "    return b\n",
    "\n",
    "\n",
    "def key(write_pr):\n",
    "    write_pr.add_pr_curve('{mode}_{c}',np.array([1,2]),np.array([1,2]))\n",
    "    return 1"
   ]
  },
  {
   "cell_type": "code",
   "execution_count": 6,
   "metadata": {},
   "outputs": [
    {
     "data": {
      "text/plain": [
       "2"
      ]
     },
     "execution_count": 6,
     "metadata": {},
     "output_type": "execute_result"
    }
   ],
   "source": [
    "www(write_pr,2)\n",
    "\n",
    "\n"
   ]
  },
  {
   "cell_type": "code",
   "execution_count": 17,
   "metadata": {},
   "outputs": [],
   "source": [
    "a.add_pr_curve(\"sshs\",np.array([1,2]),np.array([1,2]))"
   ]
  },
  {
   "cell_type": "code",
   "execution_count": 2,
   "metadata": {},
   "outputs": [
    {
     "ename": "NameError",
     "evalue": "name 'write_pr' is not defined",
     "output_type": "error",
     "traceback": [
      "\u001b[0;31m---------------------------------------------------------------------------\u001b[0m",
      "\u001b[0;31mNameError\u001b[0m                                 Traceback (most recent call last)",
      "\u001b[1;32m/home/yuxin.fan/extract_summary_finetune/note_book/test_extract_summary_from_news.ipynb Cell 11\u001b[0m in \u001b[0;36m<cell line: 1>\u001b[0;34m()\u001b[0m\n\u001b[0;32m----> <a href='vscode-notebook-cell://ssh-remote%2B10.20.2.100/home/yuxin.fan/extract_summary_finetune/note_book/test_extract_summary_from_news.ipynb#ch0000012vscode-remote?line=0'>1</a>\u001b[0m write_pr\u001b[39m.\u001b[39madd_pr_curve(\u001b[39m'\u001b[39m\u001b[39m{mode}\u001b[39;00m\u001b[39m_\u001b[39m\u001b[39m{c}\u001b[39;00m\u001b[39m'\u001b[39m,np\u001b[39m.\u001b[39marray([\u001b[39m1\u001b[39m,\u001b[39m2\u001b[39m]),np\u001b[39m.\u001b[39marray([\u001b[39m1\u001b[39m,\u001b[39m2\u001b[39m]))\n",
      "\u001b[0;31mNameError\u001b[0m: name 'write_pr' is not defined"
     ]
    }
   ],
   "source": [
    "write_pr.add_pr_curve('{mode}_{c}',np.array([1,2]),np.array([1,2]))"
   ]
  },
  {
   "cell_type": "code",
   "execution_count": 7,
   "metadata": {},
   "outputs": [
    {
     "data": {
      "text/plain": [
       "tensor([[[-0.8705],\n",
       "         [ 0.6835]],\n",
       "\n",
       "        [[-0.4626],\n",
       "         [ 0.1278]],\n",
       "\n",
       "        [[ 1.8745],\n",
       "         [ 0.9572]],\n",
       "\n",
       "        [[ 0.1757],\n",
       "         [ 1.4788]],\n",
       "\n",
       "        [[-2.0818],\n",
       "         [-1.0241]]])"
      ]
     },
     "execution_count": 7,
     "metadata": {},
     "output_type": "execute_result"
    }
   ],
   "source": [
    "import torch\n",
    "torch.randn((5,2,1))"
   ]
  },
  {
   "cell_type": "markdown",
   "metadata": {},
   "source": []
  },
  {
   "cell_type": "markdown",
   "metadata": {},
   "source": []
  }
 ],
 "metadata": {
  "kernelspec": {
   "display_name": "Python 3.8.13 ('swufe')",
   "language": "python",
   "name": "python3"
  },
  "language_info": {
   "codemirror_mode": {
    "name": "ipython",
    "version": 3
   },
   "file_extension": ".py",
   "mimetype": "text/x-python",
   "name": "python",
   "nbconvert_exporter": "python",
   "pygments_lexer": "ipython3",
   "version": "3.8.13"
  },
  "orig_nbformat": 4,
  "vscode": {
   "interpreter": {
    "hash": "aa46084ac09a53b183332db73d934316dec080233f1a9b03c076216e26986b02"
   }
  }
 },
 "nbformat": 4,
 "nbformat_minor": 2
}
